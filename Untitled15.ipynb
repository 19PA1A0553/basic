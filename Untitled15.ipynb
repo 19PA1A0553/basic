{
  "nbformat": 4,
  "nbformat_minor": 0,
  "metadata": {
    "colab": {
      "name": "Untitled15.ipynb",
      "provenance": [],
      "authorship_tag": "ABX9TyMo2A8t+GzsoCxnJ5BX3e6Y",
      "include_colab_link": true
    },
    "kernelspec": {
      "name": "python3",
      "display_name": "Python 3"
    }
  },
  "cells": [
    {
      "cell_type": "markdown",
      "metadata": {
        "id": "view-in-github",
        "colab_type": "text"
      },
      "source": [
        "<a href=\"https://colab.research.google.com/github/19PA1A0553/basic/blob/master/Untitled15.ipynb\" target=\"_parent\"><img src=\"https://colab.research.google.com/assets/colab-badge.svg\" alt=\"Open In Colab\"/></a>"
      ]
    },
    {
      "cell_type": "markdown",
      "metadata": {
        "id": "4lhk5zq-WNqE",
        "colab_type": "text"
      },
      "source": [
        "My jupyterNotebook"
      ]
    },
    {
      "cell_type": "markdown",
      "metadata": {
        "id": "qRAKpAjBXJ62",
        "colab_type": "text"
      },
      "source": [
        "sumanth"
      ]
    },
    {
      "cell_type": "markdown",
      "metadata": {
        "id": "UpSebm3EXLZG",
        "colab_type": "text"
      },
      "source": [
        "student"
      ]
    },
    {
      "cell_type": "markdown",
      "metadata": {
        "id": "dJJmqRyIXRZX",
        "colab_type": "text"
      },
      "source": [
        "This is a italicized text"
      ]
    },
    {
      "cell_type": "markdown",
      "metadata": {
        "id": "D6E-ETb0Xh-u",
        "colab_type": "text"
      },
      "source": [
        "this code prints the output of two numbers"
      ]
    },
    {
      "cell_type": "code",
      "metadata": {
        "id": "5ryAPvztWToq",
        "colab_type": "code",
        "colab": {
          "base_uri": "https://localhost:8080/",
          "height": 34
        },
        "outputId": "f2473315-6ba0-45e6-df49-2724fdd8b146"
      },
      "source": [
        "5+6"
      ],
      "execution_count": 1,
      "outputs": [
        {
          "output_type": "execute_result",
          "data": {
            "text/plain": [
              "11"
            ]
          },
          "metadata": {
            "tags": []
          },
          "execution_count": 1
        }
      ]
    },
    {
      "cell_type": "markdown",
      "metadata": {
        "id": "X1rwJZECX73d",
        "colab_type": "text"
      },
      "source": [
        "\n",
        "\n",
        "*   List item\n",
        "*   List item\n",
        "\n",
        "1.   List item\n",
        "2.   List item\n",
        "\n",
        "\n",
        "\n"
      ]
    }
  ]
}